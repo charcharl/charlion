{
 "cells": [
  {
   "cell_type": "markdown",
   "metadata": {},
   "source": [
    "# DICE ROLLING PROGRAM:\n",
    "\n",
    "Write a program that will calculate the actual percents that each of the 6 numbers on a die comes up after rolling the die a bunch of times.\n"
   ]
  },
  {
   "cell_type": "code",
   "execution_count": null,
   "metadata": {
    "collapsed": false
   },
   "outputs": [],
   "source": [
    "a =(1/6)*100\n",
    "a = int(a)\n",
    "print(a,\"%\")"
   ]
  },
  {
   "cell_type": "markdown",
   "metadata": {},
   "source": [
    "## Part A:\n",
    "Step #1:  The program will roll the die 25 times. There should be 2 columns (with a header) to show the Roll # (from 1 to 25) and the number on the die. \n",
    "\n",
    "Step#2:  At the end, program should show the total number of times each number (1 – 6) was rolled. \n",
    "\n",
    "Step#3:  The computer should calculate what percent that each number was rolled out of 100%.\n",
    "\n"
   ]
  },
  {
   "cell_type": "code",
   "execution_count": null,
   "metadata": {
    "collapsed": false
   },
   "outputs": [],
   "source": [
    "\n",
    "\n",
    "import random\n",
    "num = {1,2:0,3:0,4:0,5:0,6:0}\n",
    ":0\n",
    "print(\"R#\\tNumber\\n---------------\")\n",
    "for i in range(1,26):\n",
    "    a = random.randint(1,6)\n",
    "    if a in list(num.keys()):\n",
    "        num[a] +=1\n",
    "    b = i \n",
    "    print(b,\"\\t\",a)\n",
    "\n",
    "    "
   ]
  },
  {
   "cell_type": "code",
   "execution_count": null,
   "metadata": {
    "collapsed": false
   },
   "outputs": [],
   "source": [
    "print(\"#\\tTotal\\t%\\n--------------------\")\n",
    "for i in range(1,7):\n",
    "    c = i\n",
    "    print(c,\"\\t\",num[i],\"\\t\",int((num[i]/25)*100))"
   ]
  }
 ],
 "metadata": {
  "anaconda-cloud": {},
  "kernelspec": {
   "display_name": "Python [conda root]",
   "language": "python",
   "name": "conda-root-py"
  },
  "language_info": {
   "codemirror_mode": {
    "name": "ipython",
    "version": 3
   },
   "file_extension": ".py",
   "mimetype": "text/x-python",
   "name": "python",
   "nbconvert_exporter": "python",
   "pygments_lexer": "ipython3",
   "version": "3.5.2"
  }
 },
 "nbformat": 4,
 "nbformat_minor": 1
}
